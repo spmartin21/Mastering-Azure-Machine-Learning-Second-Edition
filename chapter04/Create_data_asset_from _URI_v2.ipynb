{
 "cells": [
  {
   "cell_type": "code",
   "execution_count": 2,
   "metadata": {},
   "outputs": [
    {
     "name": "stderr",
     "output_type": "stream",
     "text": [
      "Found the config file in: ./.azureml/config.json\n"
     ]
    }
   ],
   "source": [
    "# Connect to Azure ML workspace\n",
    "\n",
    "from azure.ai.ml import MLClient\n",
    "from azure.identity import DefaultAzureCredential\n",
    "\n",
    "ml_client = MLClient.from_config(DefaultAzureCredential())"
   ]
  },
  {
   "cell_type": "code",
   "execution_count": 4,
   "metadata": {},
   "outputs": [
    {
     "data": {
      "text/plain": [
       "Data({'skip_validation': False, 'mltable_schema_url': None, 'referenced_uris': None, 'type': 'uri_file', 'is_anonymous': False, 'auto_increment_version': False, 'name': 'titanic', 'description': None, 'tags': {}, 'properties': {}, 'id': '/subscriptions/3a01bfbc-e48f-4e7d-9ea4-dcf5d7e90278/resourceGroups/mldemo/providers/Microsoft.MachineLearningServices/workspaces/mldemows/data/titanic/versions/4', 'Resource__source_path': None, 'base_path': '/workspaces/Mastering-Azure-Machine-Learning-Second-Edition/chapter04', 'creation_context': <azure.ai.ml.entities._system_data.SystemData object at 0x7f25c4cdd0a0>, 'serialize': <msrest.serialization.Serializer object at 0x7f25c4cdd3d0>, 'version': '4', 'latest_version': None, 'path': 'https://dprepdata.blob.core.windows.net/demo/Titanic.csv', 'datastore': None})"
      ]
     },
     "execution_count": 4,
     "metadata": {},
     "output_type": "execute_result"
    }
   ],
   "source": [
    "# Create a data asset from a publicly accessible URI\n",
    "\n",
    "from azure.ai.ml.entities import Data\n",
    "from azure.ai.ml.constants import AssetTypes\n",
    "\n",
    "path = 'https://dprepdata.blob.core.windows.net/demo/Titanic.csv'\n",
    "data = Data(\n",
    "    path=path,\n",
    "    type=AssetTypes.URI_FILE,\n",
    "    name=\"titanic\"    \n",
    ")\n",
    "ml_client.data.create_or_update(data)"
   ]
  },
  {
   "cell_type": "code",
   "execution_count": 18,
   "metadata": {},
   "outputs": [
    {
     "name": "stdout",
     "output_type": "stream",
     "text": [
      "uri_file\n"
     ]
    }
   ],
   "source": [
    "# Read back data asset from Azure ML\n",
    "\n",
    "data_in = ml_client.data.get(name=\"titanic\",version=\"1\")\n",
    "data_in\n",
    "print(data_in.type)"
   ]
  }
 ],
 "metadata": {
  "kernelspec": {
   "display_name": "Python 3.9.2 64-bit",
   "language": "python",
   "name": "python3"
  },
  "language_info": {
   "codemirror_mode": {
    "name": "ipython",
    "version": 3
   },
   "file_extension": ".py",
   "mimetype": "text/x-python",
   "name": "python",
   "nbconvert_exporter": "python",
   "pygments_lexer": "ipython3",
   "version": "3.9.2"
  },
  "orig_nbformat": 4,
  "vscode": {
   "interpreter": {
    "hash": "31f2aee4e71d21fbe5cf8b01ff0e069b9275f58929596ceb00d14d90e3e16cd6"
   }
  }
 },
 "nbformat": 4,
 "nbformat_minor": 2
}
